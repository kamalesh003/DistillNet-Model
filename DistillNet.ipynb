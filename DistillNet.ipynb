{
  "nbformat": 4,
  "nbformat_minor": 0,
  "metadata": {
    "colab": {
      "provenance": [],
      "authorship_tag": "ABX9TyM64lukH8+npqIp7VbgxcfX",
      "include_colab_link": true
    },
    "kernelspec": {
      "name": "python3",
      "display_name": "Python 3"
    },
    "language_info": {
      "name": "python"
    }
  },
  "cells": [
    {
      "cell_type": "markdown",
      "metadata": {
        "id": "view-in-github",
        "colab_type": "text"
      },
      "source": [
        "<a href=\"https://colab.research.google.com/github/kamalesh003/DistillNet-Model/blob/main/DistillNet.ipynb\" target=\"_parent\"><img src=\"https://colab.research.google.com/assets/colab-badge.svg\" alt=\"Open In Colab\"/></a>"
      ]
    },
    {
      "cell_type": "code",
      "source": [
        "import numpy as np\n",
        "import tensorflow as tf\n",
        "from tensorflow.keras.models import Sequential\n",
        "from tensorflow.keras.layers import Dense\n",
        "\n",
        "# Generate sample data\n",
        "data_size = 1000\n",
        "input_dim = 10\n",
        "X = np.random.random((data_size, input_dim))\n",
        "X"
      ],
      "metadata": {
        "colab": {
          "base_uri": "https://localhost:8080/"
        },
        "id": "MBgsLGu9RCBd",
        "outputId": "995f6cf9-7475-4f23-e72a-169c3fedc52e"
      },
      "execution_count": 47,
      "outputs": [
        {
          "output_type": "execute_result",
          "data": {
            "text/plain": [
              "array([[0.00677618, 0.7516418 , 0.20557054, ..., 0.26041412, 0.76213904,\n",
              "        0.51540056],\n",
              "       [0.19468224, 0.80825005, 0.68243534, ..., 0.32760009, 0.18394995,\n",
              "        0.51230756],\n",
              "       [0.64641812, 0.54299636, 0.2131718 , ..., 0.53904834, 0.75478621,\n",
              "        0.37265528],\n",
              "       ...,\n",
              "       [0.3812861 , 0.20763199, 0.63907914, ..., 0.46650926, 0.7706874 ,\n",
              "        0.62626581],\n",
              "       [0.55029453, 0.62276759, 0.86249387, ..., 0.30020513, 0.57134827,\n",
              "        0.83779193],\n",
              "       [0.84880596, 0.46366442, 0.73472663, ..., 0.60660918, 0.16794591,\n",
              "        0.44371493]])"
            ]
          },
          "metadata": {},
          "execution_count": 47
        }
      ]
    },
    {
      "cell_type": "markdown",
      "source": [
        "**FIRST BRAIN**\n"
      ],
      "metadata": {
        "id": "jPsO2ON2NG2P"
      }
    },
    {
      "cell_type": "code",
      "source": [
        "# Define a neural network for the \"teacher brain\"\n",
        "teacher_brain = Sequential([\n",
        "    Dense(32, activation='relu', input_dim=input_dim),\n",
        "    Dense(16, activation='relu'),\n",
        "    Dense(1, activation='sigmoid')\n",
        "])\n",
        "# Compile the teacher brain\n",
        "teacher_brain.compile(optimizer='adam', loss='mse')\n",
        "\n",
        "# Train the teacher brain on the sample data\n",
        "teacher_brain.fit(X, X, epochs=10, batch_size=32, verbose=0)"
      ],
      "metadata": {
        "colab": {
          "base_uri": "https://localhost:8080/"
        },
        "id": "7mSn6QEAQ-D-",
        "outputId": "dfea358f-e783-4b71-da89-67670eaad4db"
      },
      "execution_count": 48,
      "outputs": [
        {
          "output_type": "execute_result",
          "data": {
            "text/plain": [
              "<keras.callbacks.History at 0x7d7570bcfbe0>"
            ]
          },
          "metadata": {},
          "execution_count": 48
        }
      ]
    },
    {
      "cell_type": "markdown",
      "source": [
        "**KNOWLEDGE DISTILLATION**"
      ],
      "metadata": {
        "id": "3T2iVigURlyj"
      }
    },
    {
      "cell_type": "code",
      "source": [
        "# Perform knowledge distillation from teacher to student\n",
        "temperature = 5  # Temperature parameter for softening the teacher's output\n",
        "teacher_predictions = teacher_brain.predict(X)\n",
        "distilled_targets = teacher_predictions / temperature"
      ],
      "metadata": {
        "colab": {
          "base_uri": "https://localhost:8080/"
        },
        "id": "2WoTGIoaRXT5",
        "outputId": "59267717-16c1-4ab0-af1d-9b5db44c9a96"
      },
      "execution_count": 49,
      "outputs": [
        {
          "output_type": "stream",
          "name": "stdout",
          "text": [
            "32/32 [==============================] - 0s 884us/step\n"
          ]
        }
      ]
    },
    {
      "cell_type": "markdown",
      "source": [
        "**SECOND BRAIN**\n"
      ],
      "metadata": {
        "id": "Q94svQ2gM8fb"
      }
    },
    {
      "cell_type": "code",
      "source": [
        "# Define a neural network for the \"student brain\"\n",
        "student_brain = Sequential([\n",
        "    Dense(32, activation='relu', input_dim=input_dim),\n",
        "    Dense(16, activation='relu'),\n",
        "    Dense(1, activation='sigmoid')\n",
        "])\n",
        "# Compile the student brain\n",
        "student_brain.compile(optimizer='adam', loss='mse')\n",
        "\n",
        "# Train the student brain using the distilled targets\n",
        "student_brain.fit(X, distilled_targets, epochs=10, batch_size=32, verbose=0)"
      ],
      "metadata": {
        "colab": {
          "base_uri": "https://localhost:8080/"
        },
        "id": "wXepqNqLQ6AD",
        "outputId": "463dd61a-efaf-4777-9973-d6ed17487d59"
      },
      "execution_count": 50,
      "outputs": [
        {
          "output_type": "execute_result",
          "data": {
            "text/plain": [
              "<keras.callbacks.History at 0x7d7570b76e60>"
            ]
          },
          "metadata": {},
          "execution_count": 50
        }
      ]
    },
    {
      "cell_type": "markdown",
      "source": [
        "**SAVE THE STUDENT MODEL**"
      ],
      "metadata": {
        "id": "-Y5x_0TmaanO"
      }
    },
    {
      "cell_type": "code",
      "source": [
        "from tensorflow.keras.models import save_model\n",
        "\n",
        "# Save the trained student model to a file\n",
        "student_brain.save('student_model.h5')\n",
        "\n",
        "print(\"Student model saved successfully.\")\n"
      ],
      "metadata": {
        "colab": {
          "base_uri": "https://localhost:8080/"
        },
        "id": "5pVt1lp3R3FW",
        "outputId": "aa28729c-e16c-431c-ce64-5661eafcc95b"
      },
      "execution_count": 51,
      "outputs": [
        {
          "output_type": "stream",
          "name": "stdout",
          "text": [
            "Student model saved successfully.\n"
          ]
        }
      ]
    },
    {
      "cell_type": "markdown",
      "source": [
        "**TEST THE MODEL**"
      ],
      "metadata": {
        "id": "SD5NqJEnamib"
      }
    },
    {
      "cell_type": "code",
      "source": [
        "\n",
        "from tensorflow.keras.models import load_model\n",
        "\n",
        "# Load the saved student model\n",
        "loaded_student_model = load_model('student_model.h5')\n",
        "\n",
        "# Generate new test data\n",
        "new_data = np.random.random((50, 10))  # Replace with your new test data\n",
        "\n",
        "# Predict using the student model\n",
        "predictions = loaded_student_model.predict(new_data)\n",
        "\n",
        "# Print the predictions\n",
        "print(\"Predictions:\")\n",
        "print(predictions)\n",
        "\n"
      ],
      "metadata": {
        "colab": {
          "base_uri": "https://localhost:8080/"
        },
        "id": "7ip3rffHXjXX",
        "outputId": "618839a8-1850-4940-8485-33ce8f770d71"
      },
      "execution_count": 52,
      "outputs": [
        {
          "output_type": "stream",
          "name": "stdout",
          "text": [
            "2/2 [==============================] - 0s 4ms/step\n",
            "Predictions:\n",
            "[[0.05923397]\n",
            " [0.09272754]\n",
            " [0.05796446]\n",
            " [0.06121635]\n",
            " [0.11604492]\n",
            " [0.06965058]\n",
            " [0.093709  ]\n",
            " [0.10433598]\n",
            " [0.10084107]\n",
            " [0.06748579]\n",
            " [0.10884291]\n",
            " [0.1049219 ]\n",
            " [0.09207164]\n",
            " [0.10652605]\n",
            " [0.10102008]\n",
            " [0.08894241]\n",
            " [0.11998742]\n",
            " [0.10167316]\n",
            " [0.13247447]\n",
            " [0.06518967]\n",
            " [0.18279235]\n",
            " [0.08654773]\n",
            " [0.09894421]\n",
            " [0.06882803]\n",
            " [0.09697891]\n",
            " [0.11493541]\n",
            " [0.1250845 ]\n",
            " [0.1323021 ]\n",
            " [0.1478187 ]\n",
            " [0.10017845]\n",
            " [0.0665742 ]\n",
            " [0.07319502]\n",
            " [0.087806  ]\n",
            " [0.10514461]\n",
            " [0.10260183]\n",
            " [0.09649241]\n",
            " [0.10706151]\n",
            " [0.10622358]\n",
            " [0.1249624 ]\n",
            " [0.0736866 ]\n",
            " [0.07160724]\n",
            " [0.09870622]\n",
            " [0.05552676]\n",
            " [0.10917968]\n",
            " [0.09181173]\n",
            " [0.10364348]\n",
            " [0.09973892]\n",
            " [0.11563347]\n",
            " [0.10945927]\n",
            " [0.12542404]]\n"
          ]
        }
      ]
    }
  ]
}